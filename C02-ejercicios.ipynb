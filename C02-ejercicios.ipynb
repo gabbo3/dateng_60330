{
 "cells": [
  {
   "cell_type": "code",
   "execution_count": 1,
   "metadata": {},
   "outputs": [],
   "source": [
    "import pandas as pd\n",
    "import sqlite3\n",
    "\n",
    "# Conectarse a la base de datos SQLite o crear una si no existe\n",
    "conn = sqlite3.connect('c02.db')\n",
    "\n",
    "# Ruta de los archivos CSV y nombres de las tablas\n",
    "archivos_csv = ['C01-database/agents.csv', 'C01-database/calls.csv', 'C01-database/customers.csv']\n",
    "nombres_tablas = ['agents', 'calls', 'customers']\n",
    "\n",
    "# Loop para procesar cada archivo CSV y tabla correspondiente\n",
    "for csv_file, table_name in zip(archivos_csv, nombres_tablas):\n",
    "    # Leer el CSV usando pandas\n",
    "    df = pd.read_csv(csv_file)\n",
    "\n",
    "    # Guardar el DataFrame en la base de datos SQLite\n",
    "    df.to_sql(table_name, conn, index=False, if_exists='replace')\n",
    "\n",
    "# Cerrar la conexión\n",
    "conn.close()"
   ]
  }
 ],
 "metadata": {
  "kernelspec": {
   "display_name": "Python 3",
   "language": "python",
   "name": "python3"
  },
  "language_info": {
   "codemirror_mode": {
    "name": "ipython",
    "version": 3
   },
   "file_extension": ".py",
   "mimetype": "text/x-python",
   "name": "python",
   "nbconvert_exporter": "python",
   "pygments_lexer": "ipython3",
   "version": "3.11.3"
  },
  "orig_nbformat": 4
 },
 "nbformat": 4,
 "nbformat_minor": 2
}
