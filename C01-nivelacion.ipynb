{
 "cells": [
  {
   "attachments": {},
   "cell_type": "markdown",
   "metadata": {},
   "source": [
    "Escribir un programa que lea un número impar por teclado. Si el usuario no introduce un número impar, debe repetirse el proceso hasta que lo introduzca correctamente."
   ]
  },
  {
   "cell_type": "code",
   "execution_count": 1,
   "metadata": {},
   "outputs": [
    {
     "name": "stdout",
     "output_type": "stream",
     "text": [
      "Incorrecto introduce un numero impar\n",
      "Incorrecto introduce un numero impar\n",
      "Ciclo finalizado\n"
     ]
    }
   ],
   "source": [
    "while True:\n",
    "    if int(input('Introduce un numero impar:'))% 2==0:\n",
    "        print('Incorrecto introduce un numero impar') \n",
    "    else:\n",
    "        print('Ciclo finalizado')\n",
    "        break"
   ]
  },
  {
   "attachments": {},
   "cell_type": "markdown",
   "metadata": {},
   "source": [
    "Escribir un programa que pida al usuario cuántos números quiere introducir. Luego que lea todos los números y realice una media aritmética."
   ]
  },
  {
   "cell_type": "code",
   "execution_count": 5,
   "metadata": {},
   "outputs": [
    {
     "name": "stdout",
     "output_type": "stream",
     "text": [
      "La media de los numeros es: 1.0\n"
     ]
    }
   ],
   "source": [
    "cantidad=int(input('Introduce una cantidad de numeros para sacar la media:'))\n",
    "lista=[]\n",
    "for i in range(cantidad):\n",
    "    # a=float(input('Introduce el numero {}:'.format(i+1)))\n",
    "    a=float(input(f'Introduce el numero {}:'))\n",
    "    lista.append(a)\n",
    "print('La media de los numeros es:', sum(lista)/len(lista))\n"
   ]
  },
  {
   "attachments": {},
   "cell_type": "markdown",
   "metadata": {},
   "source": [
    "Utilizando la función range() y la conversión a listas generar las siguientes listas dinámicamente:\n",
    "Todos los números del 0 al 10 [0, 1, 2, ..., 10]\n",
    "Todos los números del -10 al 0 [-10, -9, -8, ..., 0]\n",
    "Todos los números pares del 0 al 20 [0, 2, 4, ..., 20]\n",
    "Todos los números impares entre -20 y 0 [-19, -17, -15, ..., -1]\n",
    "Todos los números múltiples de 5 del 0 al 50 [0, 5, 10, ..., 50]"
   ]
  },
  {
   "cell_type": "code",
   "execution_count": null,
   "metadata": {},
   "outputs": [],
   "source": [
    "print(list(range(0,10+1,1)));\n",
    "print([x for x in range(-10, 1)])\n",
    "print([x for x in range(0,20+1,1) if x%2==0])\n",
    "print([x for x in range(-19, -1+1)])\n",
    "print([x for x in range(0,50+1,1) if x%5==0])"
   ]
  },
  {
   "attachments": {},
   "cell_type": "markdown",
   "metadata": {},
   "source": [
    "Dadas dos listas (las que se quiera crear), generar una tercera con los elementos que estén presentes en AMBAS listas. Retornar esta nueva lista pero sin elementos duplicados."
   ]
  },
  {
   "cell_type": "code",
   "execution_count": null,
   "metadata": {},
   "outputs": [],
   "source": [
    "lista_1 = [\"h\",'o','l','a',' ', 'm','u','n','d','o']\n",
    "lista_2 = [\"h\",'o','l','a',' ', 'l','u','n','a']\n",
    "lista_3 = ['h', 'o', 'l', 'a', ' ', 'u', 'n']\n",
    "\n",
    "print(lista_3)"
   ]
  },
  {
   "cell_type": "code",
   "execution_count": 13,
   "metadata": {},
   "outputs": [
    {
     "data": {
      "text/plain": [
       "['h', 'o', 'l', 'a', ' ', 'u', 'n', 'o']"
      ]
     },
     "execution_count": 13,
     "metadata": {},
     "output_type": "execute_result"
    }
   ],
   "source": [
    "lista_c = [numero for numero in lista_1 if numero in lista_2]\n",
    "lista_c"
   ]
  },
  {
   "cell_type": "code",
   "execution_count": 11,
   "metadata": {},
   "outputs": [
    {
     "data": {
      "text/plain": [
       "[' ', 'o', 'n', 'a', 'u', 'l', 'h']"
      ]
     },
     "execution_count": 11,
     "metadata": {},
     "output_type": "execute_result"
    }
   ],
   "source": [
    "lista_1 = [\"h\",'o','l','a',' ', 'm','u','n','d','o']\n",
    "lista_2 = [\"h\",'o','l','a',' ', 'l','u','n','a']\n",
    "list(set(lista_1) & set(lista_2))"
   ]
  },
  {
   "cell_type": "code",
   "execution_count": 9,
   "metadata": {},
   "outputs": [
    {
     "name": "stdout",
     "output_type": "stream",
     "text": [
      "[' ', 'o', 'n', 'a', 'u', 'l', 'h']\n"
     ]
    }
   ],
   "source": [
    "lista_1 = [\"h\",'o','l','a',' ', 'm','u','n','d','o']\n",
    "lista_2 = [\"h\",'o','l','a',' ', 'l','u','n','a']\n",
    "nueva_lista = []\n",
    "for element in lista_2:\n",
    "    if element in lista_1:\n",
    "        nueva_lista.append(element)\n",
    "print([*set(nueva_lista)])\n"
   ]
  },
  {
   "attachments": {},
   "cell_type": "markdown",
   "metadata": {},
   "source": [
    "Escribir un programa que sume todos los números enteros impares desde el 0 hasta el 100"
   ]
  },
  {
   "cell_type": "code",
   "execution_count": 16,
   "metadata": {},
   "outputs": [
    {
     "data": {
      "text/plain": [
       "2500"
      ]
     },
     "execution_count": 16,
     "metadata": {},
     "output_type": "execute_result"
    }
   ],
   "source": [
    "sum(range(1,100,2))"
   ]
  },
  {
   "cell_type": "code",
   "execution_count": 15,
   "metadata": {},
   "outputs": [
    {
     "name": "stdout",
     "output_type": "stream",
     "text": [
      "2500\n"
     ]
    }
   ],
   "source": [
    "lista_v=[]\n",
    "for i in range(1,100+1,1):\n",
    "    if i %2 ==0:\n",
    "        lista_v.append(0)\n",
    "    else:\n",
    "        lista_v.append(i)\n",
    "print(sum(lista_v))"
   ]
  },
  {
   "attachments": {},
   "cell_type": "markdown",
   "metadata": {},
   "source": [
    "Contar cuantas veces aparece un elemento en una lista"
   ]
  },
  {
   "cell_type": "code",
   "execution_count": 20,
   "metadata": {},
   "outputs": [
    {
     "name": "stdout",
     "output_type": "stream",
     "text": [
      "33 aparece 0 veces\n"
     ]
    }
   ],
   "source": [
    "def conteo(lista, elemento):\n",
    "    contador = 0\n",
    "    for elemento in lista:\n",
    "        if (elemento == x):\n",
    "            contador = contador + 1\n",
    "    return contador\n",
    "lt = [8, 6, 8, 10, 8, 20, 10, 8, 8]\n",
    "x = 33 #elemento\n",
    "print('{} aparece {} veces'.format(x, conteo(lt, x)))"
   ]
  },
  {
   "attachments": {},
   "cell_type": "markdown",
   "metadata": {},
   "source": [
    "Vamos a cargar la base de datos"
   ]
  },
  {
   "cell_type": "code",
   "execution_count": 21,
   "metadata": {},
   "outputs": [],
   "source": [
    "import pandas as pd\n",
    "import sqlite3\n",
    "\n",
    "# Conectarse a la base de datos SQLite o crear una si no existe\n",
    "conn = sqlite3.connect('c01.db')\n",
    "\n",
    "# Ruta de los archivos CSV y nombres de las tablas\n",
    "archivos_csv = ['C01-database/agents.csv', 'C01-database/calls.csv', 'C01-database/customers.csv']\n",
    "nombres_tablas = ['agents', 'calls', 'customers']\n",
    "\n",
    "# Loop para procesar cada archivo CSV y tabla correspondiente\n",
    "for csv_file, table_name in zip(archivos_csv, nombres_tablas):\n",
    "    # Leer el CSV usando pandas\n",
    "    df = pd.read_csv(csv_file)\n",
    "\n",
    "    # Guardar el DataFrame en la base de datos SQLite\n",
    "    df.to_sql(table_name, conn, index=False, if_exists='replace')\n",
    "\n",
    "# Cerrar la conexión\n",
    "conn.close()\n"
   ]
  }
 ],
 "metadata": {
  "kernelspec": {
   "display_name": "Python 3",
   "language": "python",
   "name": "python3"
  },
  "language_info": {
   "codemirror_mode": {
    "name": "ipython",
    "version": 3
   },
   "file_extension": ".py",
   "mimetype": "text/x-python",
   "name": "python",
   "nbconvert_exporter": "python",
   "pygments_lexer": "ipython3",
   "version": "3.11.3"
  },
  "orig_nbformat": 4
 },
 "nbformat": 4,
 "nbformat_minor": 2
}
